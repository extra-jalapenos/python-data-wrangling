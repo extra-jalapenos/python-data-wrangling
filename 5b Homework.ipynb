{
 "cells": [
  {
   "cell_type": "markdown",
   "id": "e09136a9-cdb0-4dc2-a840-71ba3ba5b814",
   "metadata": {},
   "source": [
    "# Pandas Data Wrangling"
   ]
  },
  {
   "cell_type": "markdown",
   "id": "f8d39ff1-490e-4110-9ff1-8880fdba895c",
   "metadata": {},
   "source": [
    "### Homework"
   ]
  },
  {
   "cell_type": "markdown",
   "id": "e5aac0b8-67cf-496d-8b82-d7a2910ef36b",
   "metadata": {},
   "source": [
    "Before you begin, remember to import the necessary libraries."
   ]
  },
  {
   "cell_type": "code",
   "execution_count": null,
   "id": "33de4fa0-4c6b-412e-9d31-b60b777ec39a",
   "metadata": {},
   "outputs": [],
   "source": [
    "import numpy as np\n",
    "import pandas as pd"
   ]
  },
  {
   "cell_type": "markdown",
   "id": "a847e87d-4300-4748-b162-fac4c8f4624b",
   "metadata": {},
   "source": [
    "#### Standard Exercises"
   ]
  },
  {
   "cell_type": "markdown",
   "id": "13df0212-acef-48bd-9d90-45faa32027a0",
   "metadata": {},
   "source": [
    "1. Load the `lifeexpectancy.csv` and the `drinks.csv` datasets from the `data` > `Life Expectancy` folder and save them, respectively, to the following two objects: `life_raw` and `drinks_raw`."
   ]
  },
  {
   "cell_type": "code",
   "execution_count": null,
   "id": "3078d2c0-9b0c-49ae-8c59-1456b25a51d4",
   "metadata": {},
   "outputs": [],
   "source": []
  },
  {
   "cell_type": "code",
   "execution_count": null,
   "id": "b10775f7-b540-415c-9ede-93a3a1bb551f",
   "metadata": {},
   "outputs": [],
   "source": []
  },
  {
   "cell_type": "markdown",
   "id": "e3f20b2d-eb02-454c-a442-07d4bf1643d7",
   "metadata": {},
   "source": [
    "2. For each DataFrame, create a copy and save it to a new object (`life` and `drinks`), check its columns data type and make sure each column is in the expected format and whether there are any missing values. *(hint: remember the `.info()` method)* "
   ]
  },
  {
   "cell_type": "code",
   "execution_count": null,
   "id": "ed24906d-3415-47c9-911e-5aab03db2520",
   "metadata": {},
   "outputs": [],
   "source": []
  },
  {
   "cell_type": "code",
   "execution_count": null,
   "id": "72f15cde-3e0e-4a54-a42e-e0265bce174d",
   "metadata": {},
   "outputs": [],
   "source": []
  },
  {
   "cell_type": "markdown",
   "id": "8b6a4c59-7c88-4ccc-b6e0-99b78b615d7c",
   "metadata": {},
   "source": [
    "3. The `drinks` DataFrame has three columns (the ones ending with `_servings`) that should be interpreted as integer but are in fact stored as strings (ie: object). Find out why that is happening and replace any erroneous character with a zero. Then, convert each of those three columns to integers. *(hint: a quick way to check the contents of a column is to use the `.unique()` method)*"
   ]
  },
  {
   "cell_type": "code",
   "execution_count": null,
   "id": "2406cf40-6c04-4209-aa90-1f5b53e8ec49",
   "metadata": {},
   "outputs": [],
   "source": []
  },
  {
   "cell_type": "code",
   "execution_count": null,
   "id": "f65dbff0-c6be-442c-8527-cd16e69d68c2",
   "metadata": {
    "tags": []
   },
   "outputs": [],
   "source": []
  },
  {
   "cell_type": "code",
   "execution_count": null,
   "id": "9ff73afe-5114-4e7a-bbc5-3aa21daa0151",
   "metadata": {},
   "outputs": [],
   "source": []
  },
  {
   "cell_type": "code",
   "execution_count": null,
   "id": "026344ab-3175-4c4e-99d8-e6fd82c4368e",
   "metadata": {},
   "outputs": [],
   "source": []
  },
  {
   "cell_type": "markdown",
   "id": "1875ba4b-31b9-495b-8cab-ee8d834d9d87",
   "metadata": {},
   "source": [
    "4. The `.drop_duplicates()` method allows you to remove duplicated rows from a DataFrame (read [here](https://pandas.pydata.org/docs/reference/api/pandas.DataFrame.drop_duplicates.html) to find out more). Select the `CountryDisplay` and `RegionDisplay` columns from the `life` DataFrame and remove the duplicated rows. Save the final output in a new dataset called `country_region`. You just created a lookup-table that should have 195 rows and 2 columns. "
   ]
  },
  {
   "cell_type": "code",
   "execution_count": null,
   "id": "1553d9f4-b39e-4a61-834c-971a0866beda",
   "metadata": {},
   "outputs": [],
   "source": []
  },
  {
   "cell_type": "markdown",
   "id": "590229f2-8bc0-4be3-86f3-7b2e8678987b",
   "metadata": {},
   "source": [
    "5. Using the `.merge()` method, combine the and the `drinks` and the `country_region` datasets using a **left join** in order to **add the `RegionDisplay` field** to the `drinks` DataFrame. Call the new DataFrame object `drinks_region`."
   ]
  },
  {
   "cell_type": "code",
   "execution_count": null,
   "id": "438d1688-fa59-4b14-bfe5-a4b9bf9f20a8",
   "metadata": {},
   "outputs": [],
   "source": []
  },
  {
   "cell_type": "markdown",
   "id": "7e3ac26b-0ac4-4b57-bda6-b19387f67898",
   "metadata": {},
   "source": [
    "6. Rename the `RegionDisplay` column to `region` and reorder the columns in the `drinks_region` DataFrame so to have the following sequence: ['region', 'country', 'beer_servings', 'spirit_servings', 'wine_servings']."
   ]
  },
  {
   "cell_type": "code",
   "execution_count": null,
   "id": "9b943157-99cf-456b-b988-378a64fdae33",
   "metadata": {},
   "outputs": [],
   "source": []
  },
  {
   "cell_type": "code",
   "execution_count": null,
   "id": "7d415885-9d41-4d77-b985-72674af48d84",
   "metadata": {},
   "outputs": [],
   "source": []
  },
  {
   "cell_type": "markdown",
   "id": "9fa5599a-eb8e-4cef-810a-d67ca4150631",
   "metadata": {},
   "source": [
    "7. Find out which `region` has the **highest average spirit_servings**."
   ]
  },
  {
   "cell_type": "code",
   "execution_count": null,
   "id": "c7797afc-f285-4dee-8663-4fbfb4ee0e70",
   "metadata": {},
   "outputs": [],
   "source": []
  },
  {
   "cell_type": "markdown",
   "id": "14b96b55-e2fd-41a0-8ff4-ab34f65af539",
   "metadata": {},
   "source": [
    "#### Advanced Exercise"
   ]
  },
  {
   "cell_type": "markdown",
   "id": "f976c9bd-a5f6-4d65-836f-31fc77570285",
   "metadata": {},
   "source": [
    "1. Using the `.merge()` method, combine the `life` and the `drinks` datasets using a **left join** on the appropriate field. Save the new dataset in a new DataFrame object called `life_drinks_raw`."
   ]
  },
  {
   "cell_type": "code",
   "execution_count": null,
   "id": "b190c670-7b0e-4c13-9a59-fffb587787dc",
   "metadata": {},
   "outputs": [],
   "source": []
  },
  {
   "cell_type": "markdown",
   "id": "be48b6f9-204c-4f10-a7aa-4e455a4e5de3",
   "metadata": {},
   "source": [
    "2. Create a copy of `life_drinks_raw` called `life_drinks` where you filter the above DataFrame using the following conditions (check out the solution on [this Stack Overflow page](https://stackoverflow.com/questions/22546425/how-to-implement-a-boolean-search-with-multiple-columns-in-pandas) to get a cue on how to filter data on multiple columns in a pandas DataFrame): \n",
    "\n",
    "- `GhoDisplay` = 'Life expectancy at birth (years)'\n",
    "- `WorldBankIncomeGroupDisplay` = null *(hint: remember the isnull() method)*\n",
    "- `SexDisplay` != 'Both sexes'"
   ]
  },
  {
   "cell_type": "code",
   "execution_count": null,
   "id": "d4c6afd6-c72e-4268-8f35-4d58b0d963c8",
   "metadata": {},
   "outputs": [],
   "source": []
  },
  {
   "cell_type": "code",
   "execution_count": null,
   "id": "13d85ffb-c795-45c4-ab84-87c718ccc45b",
   "metadata": {},
   "outputs": [],
   "source": []
  },
  {
   "cell_type": "markdown",
   "id": "06053dac-4b7d-4bbb-a176-fce79fa61459",
   "metadata": {},
   "source": [
    "3. Reorder the columns in the `life_drinks` DataFrame so to have the following sequence: \n",
    "['GhoDisplay', 'YearDisplay', 'YearDisplay', 'RegionDisplay', 'CountryDisplay', 'SexDisplay', 'Numeric', 'beer_servings',\n",
    "       'spirit_servings', 'wine_servings']"
   ]
  },
  {
   "cell_type": "code",
   "execution_count": null,
   "id": "4b815306-0589-4b61-bef1-424623fbd91f",
   "metadata": {},
   "outputs": [],
   "source": []
  },
  {
   "cell_type": "markdown",
   "id": "88b01b09-8c6a-4efe-b837-783b60a95f71",
   "metadata": {},
   "source": [
    "4. Rename the following columns as specified: \n",
    "\n",
    "- Numeric --> LifeExpectancy\n",
    "- beer_servings = BeerServings\n",
    "- spirit_servings = SpiritServings\n",
    "- wine_servings = WineServings"
   ]
  },
  {
   "cell_type": "code",
   "execution_count": null,
   "id": "f03851a5-9c04-409d-a963-3428ac5952c3",
   "metadata": {},
   "outputs": [],
   "source": []
  },
  {
   "cell_type": "markdown",
   "id": "76ce6dd4-3bb3-48da-9cdd-459f92debdfb",
   "metadata": {},
   "source": [
    "5. Create a new DataFrame, call it `life_drinks_13`, where you show the average `LifeExpectancy` and `SpiritServings` by `RegionDisplay` in 2013. Can you see a relationship between the two metrics? If so, would you trust this data to make any broad conclusions?\n",
    "\n",
    "*(Hint: remember to include the `as_index=False` parameter in the groupby so to aviod multi-index DataFrames)*"
   ]
  },
  {
   "cell_type": "code",
   "execution_count": null,
   "id": "19e74f20-533a-4aa0-8799-8c312a04af71",
   "metadata": {},
   "outputs": [],
   "source": []
  },
  {
   "cell_type": "code",
   "execution_count": null,
   "id": "405185d5-e11d-42ba-9574-a638925954ce",
   "metadata": {},
   "outputs": [],
   "source": []
  },
  {
   "cell_type": "markdown",
   "id": "498545b8-db96-4912-91a6-733245b913b5",
   "metadata": {},
   "source": [
    "6. Now create a new DataFrame, call it `life_exp_13`, where you show the average `LifeExpectancy` by `RegionDisplay` and `SexDisplay` in 2013."
   ]
  },
  {
   "cell_type": "code",
   "execution_count": null,
   "id": "af23a44d-f3f4-4e40-bf31-b81494aa9a5a",
   "metadata": {},
   "outputs": [],
   "source": []
  },
  {
   "cell_type": "code",
   "execution_count": null,
   "id": "c374efad-be73-4ce3-94cb-027a7af6d5b6",
   "metadata": {},
   "outputs": [],
   "source": []
  },
  {
   "cell_type": "markdown",
   "id": "281ef55a-04cd-4bae-b75e-3aa879637b0d",
   "metadata": {},
   "source": [
    "7. Starting from the `life_exp_13` DataFrame and using an **inner join**, create a DataFrame named `life_exp_13_gndr` that shows one row per `RegionDisplay` (6 rows) and two columns, each containing the average male and female life expectancy (relative to each region). \n",
    "\n",
    "    - Then rename and reorder the DataFrame's columns so to end up with the following column names: ['RegionDisplay', 'LifeExpMale', 'LifeExpFemale']. \n",
    "    - Which `DisplayRegion` has the highest gap in years between males and females?"
   ]
  },
  {
   "cell_type": "code",
   "execution_count": null,
   "id": "328dd516-c8c7-4cf5-8c2b-1d3051978c87",
   "metadata": {},
   "outputs": [],
   "source": []
  },
  {
   "cell_type": "code",
   "execution_count": null,
   "id": "65ce0508-9927-423b-8d4a-14fd894e4ce1",
   "metadata": {},
   "outputs": [],
   "source": []
  },
  {
   "cell_type": "code",
   "execution_count": null,
   "id": "1fb1833c-e650-4447-904c-e21d317984d0",
   "metadata": {},
   "outputs": [],
   "source": []
  }
 ],
 "metadata": {
  "kernelspec": {
   "display_name": "Python 3 (ipykernel)",
   "language": "python",
   "name": "python3"
  },
  "language_info": {
   "codemirror_mode": {
    "name": "ipython",
    "version": 3
   },
   "file_extension": ".py",
   "mimetype": "text/x-python",
   "name": "python",
   "nbconvert_exporter": "python",
   "pygments_lexer": "ipython3",
   "version": "3.9.7"
  }
 },
 "nbformat": 4,
 "nbformat_minor": 5
}
